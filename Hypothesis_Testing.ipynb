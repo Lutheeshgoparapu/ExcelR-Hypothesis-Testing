{
  "cells": [
    {
      "cell_type": "markdown",
      "id": "57bcf8c6-b153-4f82-85f2-8c18cf31a940",
      "metadata": {
        "id": "57bcf8c6-b153-4f82-85f2-8c18cf31a940"
      },
      "source": [
        "## CHI-SQUARE TEST\n",
        "\n",
        "\n",
        "\n"
      ]
    },
    {
      "cell_type": "markdown",
      "id": "36d19413-08bd-45c0-b1dc-1fb4119bf896",
      "metadata": {
        "id": "36d19413-08bd-45c0-b1dc-1fb4119bf896"
      },
      "source": [
        "## 1. State the Hypotheses:\n",
        "\n",
        "\n",
        "### Null Hypothesis(H0): There is no association between the type of smart phone device purchased (Smart Thermostats Vs. Smart Lights) and the customer's satisfaction level.\n",
        "\n",
        "## H0: Device Type and Satisfaction Level are independent\n",
        "\n",
        "### 2. Alternative Hypothesis(H1):There is an association between the type of smart phone device purchased (Smart Thermostats Vs. Smart Lights) and the customer's satisfaction level.\n",
        "\n",
        "## H1: Device Type and Satisfaction Level are not independent"
      ]
    },
    {
      "cell_type": "code",
      "execution_count": 1,
      "id": "d8f34e16-5266-4911-9e2c-978956beaef4",
      "metadata": {
        "id": "d8f34e16-5266-4911-9e2c-978956beaef4"
      },
      "outputs": [],
      "source": [
        "H0 = \"There is no association between Device Type and Customer Satisfaction\"\n",
        "H1 = \"There is no association between Device Type and Customer Satisfaction\""
      ]
    },
    {
      "cell_type": "markdown",
      "id": "ddc7a480-041c-4ab6-a794-5961d14c8fac",
      "metadata": {
        "id": "ddc7a480-041c-4ab6-a794-5961d14c8fac"
      },
      "source": [
        "# 2. Compute the Chi-Square Statistic:\n"
      ]
    },
    {
      "cell_type": "code",
      "execution_count": 2,
      "id": "b46a6e73-e026-4039-99c9-998ccc44a10c",
      "metadata": {
        "colab": {
          "base_uri": "https://localhost:8080/"
        },
        "id": "b46a6e73-e026-4039-99c9-998ccc44a10c",
        "outputId": "1004a97d-7c66-46c2-cc32-61c97244b097"
      },
      "outputs": [
        {
          "output_type": "stream",
          "name": "stdout",
          "text": [
            "Chi-Square Statistic: {chi2}\n",
            "p-value: 0.22784371130697179\n",
            "Degrees of Freedom: 4\n",
            "Expected Frequencies:\n",
            "[[ 48.  72.]\n",
            " [ 72. 108.]\n",
            " [ 60.  90.]\n",
            " [ 32.  48.]\n",
            " [ 28.  42.]]\n"
          ]
        }
      ],
      "source": [
        "import numpy as np\n",
        "from scipy.stats import chi2_contingency\n",
        "\n",
        "observed = np.array([[50, 70],[80, 100],[60,90],[30,50],[20,50]])\n",
        "\n",
        "chi2, p, dof, expected = chi2_contingency(observed)\n",
        "\n",
        "print(\"Chi-Square Statistic: {chi2}\")\n",
        "print(f\"p-value: {p}\")\n",
        "print(f\"Degrees of Freedom: {dof}\")\n",
        "print(\"Expected Frequencies:\")\n",
        "print(expected)"
      ]
    },
    {
      "cell_type": "markdown",
      "id": "dd8750cf-52e8-4f51-82c6-789666ee91ad",
      "metadata": {
        "id": "dd8750cf-52e8-4f51-82c6-789666ee91ad"
      },
      "source": [
        "# 3. Determine the Critical Value:\n",
        "## Using the significance level (alpha) of 0.05 and the degrees of freedom (which is the number of categories minus 1)\n"
      ]
    },
    {
      "cell_type": "code",
      "execution_count": 3,
      "id": "dcafb19d-9614-4646-bf45-2a37bbd8fd84",
      "metadata": {
        "colab": {
          "base_uri": "https://localhost:8080/"
        },
        "id": "dcafb19d-9614-4646-bf45-2a37bbd8fd84",
        "outputId": "e3960fbe-99e5-4c22-fadd-026291f0bdb0"
      },
      "outputs": [
        {
          "output_type": "stream",
          "name": "stdout",
          "text": [
            "critical value for α = 0.05 and df = 4 : 9.488\n"
          ]
        }
      ],
      "source": [
        "from scipy.stats import chi2\n",
        "alpha = 0.05\n",
        "df = 4\n",
        "critical_value = chi2.ppf(1 - alpha,df)\n",
        "print(f\"critical value for α = {alpha} and df = {df} : {critical_value:.3f}\")"
      ]
    },
    {
      "cell_type": "markdown",
      "id": "d099da0b-173c-48a8-9343-477e5c7fbd56",
      "metadata": {
        "id": "d099da0b-173c-48a8-9343-477e5c7fbd56"
      },
      "source": [
        "# 4. Make a Decision:\n",
        "## Compare the Chi-Square statistic with the critical value to decide whether to reject the null hypothesis.\n"
      ]
    },
    {
      "cell_type": "code",
      "execution_count": 4,
      "id": "251bcce2-3636-4d73-a2c2-9375b2e68393",
      "metadata": {
        "colab": {
          "base_uri": "https://localhost:8080/"
        },
        "id": "251bcce2-3636-4d73-a2c2-9375b2e68393",
        "outputId": "3a8a3e95-2515-4298-e2b5-8573cff6b0b9"
      },
      "outputs": [
        {
          "output_type": "stream",
          "name": "stdout",
          "text": [
            "Computed Chi-Square Statistic: 25.840\n",
            "critical value for α = 0.05 and df = 4 : 9.488\n",
            "Reject the null hypothesis.\n"
          ]
        }
      ],
      "source": [
        "from scipy.stats import chi2\n",
        "chi2_statistic = 25.84\n",
        "df = 4\n",
        "alpha = 0.05\n",
        "critical_value = chi2.ppf(1 - alpha, df)\n",
        "print(f\"Computed Chi-Square Statistic: {chi2_statistic:.3f}\")\n",
        "print(f\"critical value for α = {alpha} and df = {df} : {critical_value:.3f}\")\n",
        "if chi2_statistic > critical_value:\n",
        "    print(\"Reject the null hypothesis.\")\n",
        "else:\n",
        "    print(\"Fail to reject the null hypothesis.\")"
      ]
    },
    {
      "cell_type": "markdown",
      "id": "f99bf711-b818-415c-ad62-9ca3e4bbcbe0",
      "metadata": {
        "id": "f99bf711-b818-415c-ad62-9ca3e4bbcbe0"
      },
      "source": [
        "# HYPOTHESIS TESTING"
      ]
    },
    {
      "cell_type": "markdown",
      "id": "8d25dcca-f435-4d1e-80bc-9887e04b6df2",
      "metadata": {
        "id": "8d25dcca-f435-4d1e-80bc-9887e04b6df2"
      },
      "source": [
        "## 1. State the Hypotheses statement:"
      ]
    },
    {
      "cell_type": "code",
      "execution_count": 5,
      "id": "c5c7d2c1-d57f-4d0e-9932-fa12aa448067",
      "metadata": {
        "id": "c5c7d2c1-d57f-4d0e-9932-fa12aa448067"
      },
      "outputs": [],
      "source": [
        "# Null Hypothesis (H0): Theoretical weekly operating cost model is accurate or underestimates actual costs.\n",
        "#H0: μ_W <= 1000 + 5 * μ_X\n",
        "\n",
        "# Alternative Hypothesis (H1): Theoretical weekly operating cost model underestimates actual costs.\n",
        "#H1: μ_W > 1000 + 5 * μ_X"
      ]
    },
    {
      "cell_type": "markdown",
      "id": "9861ce40-eb45-4ba6-bcfa-eda144f63aba",
      "metadata": {
        "id": "9861ce40-eb45-4ba6-bcfa-eda144f63aba"
      },
      "source": [
        "## 2. Calculate the Test Statistic:\n",
        "## Use the following formula to calculate the test statistic (t):\n",
        "## where:\n",
        "## •\tˉxˉ = sample mean weekly cost (Rs. 3,050)\n",
        "## •\tμ = theoretical mean weekly cost according to the cost model (W = $1,000 + $5X for X = 600 units)\n",
        "## •\tσ = 5*25 units\n",
        "## •\tn = sample size (25 restaurants)\n"
      ]
    },
    {
      "cell_type": "code",
      "execution_count": 6,
      "id": "a3f5f59a-59b2-418c-aa1a-f359494abf31",
      "metadata": {
        "colab": {
          "base_uri": "https://localhost:8080/"
        },
        "id": "a3f5f59a-59b2-418c-aa1a-f359494abf31",
        "outputId": "0d867fa1-b43f-4d82-d945-6c7870a2bd1d"
      },
      "outputs": [
        {
          "output_type": "stream",
          "name": "stdout",
          "text": [
            "Test Statistic (t): -20.000\n"
          ]
        }
      ],
      "source": [
        "import math\n",
        "x_bar = 3500\n",
        "mu = 4000\n",
        "sigma = 5 * 25\n",
        "n = 25\n",
        "SEM = sigma / math.sqrt(n)\n",
        "t_statistic = (x_bar - mu) / SEM\n",
        "print(f\"Test Statistic (t): {t_statistic:.3f}\")\n"
      ]
    },
    {
      "cell_type": "markdown",
      "id": "e1aed650-bba2-4b40-8d82-2084ddc5e625",
      "metadata": {
        "id": "e1aed650-bba2-4b40-8d82-2084ddc5e625"
      },
      "source": [
        "# 3. Determine the Critical Value:\n",
        "## Using the alpha level of 5% (α = 0.05), determine the critical value from the standard normal (Z) distribution table.\n"
      ]
    },
    {
      "cell_type": "code",
      "execution_count": 7,
      "id": "12caece2-c104-48cb-b72c-325433fc85b1",
      "metadata": {
        "colab": {
          "base_uri": "https://localhost:8080/"
        },
        "id": "12caece2-c104-48cb-b72c-325433fc85b1",
        "outputId": "687d5cad-0459-4c07-e235-cb4b18d9c7be"
      },
      "outputs": [
        {
          "output_type": "stream",
          "name": "stdout",
          "text": [
            "Critical Value for α = 0.05: 1.645\n"
          ]
        }
      ],
      "source": [
        "from scipy.stats import norm\n",
        "alpha = 0.05\n",
        "critical_value = norm.ppf(1 - alpha)\n",
        "print(f\"Critical Value for α = {alpha}: {critical_value:.3f}\")\n"
      ]
    },
    {
      "cell_type": "markdown",
      "id": "7a7edb03-9937-4229-bc5e-daa8bc385cf8",
      "metadata": {
        "id": "7a7edb03-9937-4229-bc5e-daa8bc385cf8"
      },
      "source": [
        "# 4. Make a Decision:\n",
        "## Compare the test statistic with the critical value to decide whether to reject the null hypothesis.\n"
      ]
    },
    {
      "cell_type": "code",
      "execution_count": 8,
      "id": "936cd7b2-1e00-4804-8a82-d132617f7f1d",
      "metadata": {
        "colab": {
          "base_uri": "https://localhost:8080/"
        },
        "id": "936cd7b2-1e00-4804-8a82-d132617f7f1d",
        "outputId": "8f76cab2-4241-43dd-acc3-d186ff32529c"
      },
      "outputs": [
        {
          "output_type": "stream",
          "name": "stdout",
          "text": [
            "t-statistic: -38.000\n",
            "Critical Value: 1.711\n",
            "Fail to reject the null hypothesis\n"
          ]
        }
      ],
      "source": [
        "from scipy.stats import t\n",
        "sample_mean = 3050\n",
        "population_mean = 4000\n",
        "sample_std = 5 * 25\n",
        "n = 25\n",
        "df = n - 1\n",
        "t_statistic = (sample_mean - population_mean) / (sample_std / (n ** 0.5))\n",
        "alpha = 0.05\n",
        "critical_value = t.ppf(1 - alpha, df)\n",
        "print(f\"t-statistic: {t_statistic:.3f}\")\n",
        "print(f\"Critical Value: {critical_value:.3f}\")\n",
        "if t_statistic > critical_value:\n",
        "    print(\"Reject the null hypothesis\")\n",
        "else:\n",
        "    print(\"Fail to reject the null hypothesis\")"
      ]
    },
    {
      "cell_type": "code",
      "execution_count": 9,
      "id": "3eaf93e3-c1d1-4a01-9c81-1111c6434997",
      "metadata": {
        "colab": {
          "base_uri": "https://localhost:8080/"
        },
        "id": "3eaf93e3-c1d1-4a01-9c81-1111c6434997",
        "outputId": "a8c0e8e0-07ed-4add-859c-1a9c0d252103"
      },
      "outputs": [
        {
          "output_type": "stream",
          "name": "stdout",
          "text": [
            "t-statistic: 3.059\n",
            "Critical Value: 1.711\n",
            "Reject the null hypothesis\n"
          ]
        }
      ],
      "source": [
        "from scipy.stats import t\n",
        "\n",
        "# Sample statistics\n",
        "sample_mean = 75.2  # sample mean\n",
        "population_mean = 70  # hypothesized population mean under null hypothesis\n",
        "sample_std = 8.5  # sample standard deviation\n",
        "n = 25  # sample size\n",
        "\n",
        "# Degrees of freedom\n",
        "df = n - 1\n",
        "\n",
        "# Calculate the t-statistic\n",
        "t_statistic = (sample_mean - population_mean) / (sample_std / (n ** 0.5))\n",
        "\n",
        "# Significance level (alpha)\n",
        "alpha = 0.05\n",
        "\n",
        "# Critical value for one-tailed test at α = 0.05 and df\n",
        "critical_value = t.ppf(1 - alpha, df)\n",
        "\n",
        "print(f\"t-statistic: {t_statistic:.3f}\")\n",
        "print(f\"Critical Value: {critical_value:.3f}\")\n",
        "\n",
        "# Compare t-statistic with critical value\n",
        "if t_statistic > critical_value:\n",
        "    print(\"Reject the null hypothesis\")\n",
        "else:\n",
        "    print(\"Fail to reject the null hypothesis\")"
      ]
    },
    {
      "cell_type": "markdown",
      "id": "b050444c-cd6d-44b2-8764-540253462731",
      "metadata": {
        "id": "b050444c-cd6d-44b2-8764-540253462731"
      },
      "source": [
        "# 5. Conclusion:\n",
        "### Based on the decision in step 4, conclude whether there is strong evidence to support the restaurant owners' claim that the weekly operating costs are higher than the model suggests.\n"
      ]
    },
    {
      "cell_type": "markdown",
      "id": "3a50e8bd-599b-45a5-be3e-ad511e42fb2b",
      "metadata": {
        "id": "3a50e8bd-599b-45a5-be3e-ad511e42fb2b"
      },
      "source": [
        "### If the computed t-statistic is greater than 1.710, then there is strong evidence to support the restaurant owners' claim that the weekly operating costs are higher than the model suggests.\n",
        "\n",
        "\n",
        "### If the computed t-statistic is less than or equal to 1.710, then we do not have strong evidence to support their claim."
      ]
    },
    {
      "cell_type": "markdown",
      "id": "101d722c-858c-416c-a1db-4e6b07463b57",
      "metadata": {
        "id": "101d722c-858c-416c-a1db-4e6b07463b57"
      },
      "source": []
    }
  ],
  "metadata": {
    "kernelspec": {
      "display_name": "Python 3 (ipykernel)",
      "language": "python",
      "name": "python3"
    },
    "language_info": {
      "codemirror_mode": {
        "name": "ipython",
        "version": 3
      },
      "file_extension": ".py",
      "mimetype": "text/x-python",
      "name": "python",
      "nbconvert_exporter": "python",
      "pygments_lexer": "ipython3",
      "version": "3.11.7"
    },
    "colab": {
      "provenance": []
    }
  },
  "nbformat": 4,
  "nbformat_minor": 5
}